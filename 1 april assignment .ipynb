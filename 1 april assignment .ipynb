{
 "cells": [
  {
   "cell_type": "markdown",
   "id": "d1632a2e-f577-4d85-9606-f16e16108cc8",
   "metadata": {},
   "source": [
    "## Logistic Regression-1"
   ]
  },
  {
   "cell_type": "code",
   "execution_count": null,
   "id": "6b75f150-af05-40eb-b2c1-0bd8a2d8ef79",
   "metadata": {},
   "outputs": [],
   "source": []
  },
  {
   "cell_type": "markdown",
   "id": "810e4123-c9f1-4e74-9baa-d4b17c949f0b",
   "metadata": {},
   "source": [
    "Assignment Questions"
   ]
  },
  {
   "cell_type": "raw",
   "id": "ef0ea59a-1b07-48d7-b030-eee6defce447",
   "metadata": {},
   "source": [
    "Q1. Explain the difference between linear regression and logistic regression models. Provide an example of\n",
    "a scenario where logistic regression would be more appropriate."
   ]
  },
  {
   "cell_type": "markdown",
   "id": "50202289-aec4-4682-b0b3-42f53708ceea",
   "metadata": {},
   "source": [
    "Linear regression is used to estimate the dependent varible in case a change in indepndent varibles . for exam. Pridict the price of houses . where as regression is used to calculatethe probability an eveFor exam. classify if tissue is benign or maligant"
   ]
  },
  {
   "cell_type": "code",
   "execution_count": null,
   "id": "a9929324-4263-4690-b177-bbd7ce3615c9",
   "metadata": {},
   "outputs": [],
   "source": []
  },
  {
   "cell_type": "code",
   "execution_count": 1,
   "id": "747c5984-34e0-4b02-8927-3cbb67793db0",
   "metadata": {},
   "outputs": [],
   "source": [
    "#Q2. What is the cost function used in logistic regression, and how is it optimized?"
   ]
  },
  {
   "cell_type": "markdown",
   "id": "3e8d9807-2f4c-470e-8b1f-a597850e7aa2",
   "metadata": {},
   "source": [
    "Logistic Regression the cost function  we use is also known as the cross entropy or the log loss \\\n",
    "1. Case - if y = 1 that is the true label of the class is1 2. cost = 0 if the predicted value of the label is 1 as well "
   ]
  },
  {
   "cell_type": "code",
   "execution_count": null,
   "id": "b6dd08d4-facc-4470-9871-0f5ba8434aa1",
   "metadata": {},
   "outputs": [],
   "source": []
  },
  {
   "cell_type": "code",
   "execution_count": 2,
   "id": "09c3e293-b752-4a79-b898-6ff58c708c47",
   "metadata": {},
   "outputs": [],
   "source": [
    "#Q3. Explain the concept of regularization in logistic regression and how it helps prevent overfitting."
   ]
  },
  {
   "cell_type": "markdown",
   "id": "5db5deae-1a70-4d46-bce5-9f9c5786b661",
   "metadata": {},
   "source": [
    "Regurization helps you overfitting by adding a penalty term to the cost function of your model which measure how well your model first the data . the penalty term reducesthe complexity ofyour model shrinkingsome the coff. of your input varibles  "
   ]
  },
  {
   "cell_type": "code",
   "execution_count": null,
   "id": "f640104c-9f17-41b4-9a33-2358bf6f2e7b",
   "metadata": {},
   "outputs": [],
   "source": []
  },
  {
   "cell_type": "code",
   "execution_count": 3,
   "id": "1b17cd14-4ff1-4e98-a1c5-00603c99f778",
   "metadata": {},
   "outputs": [],
   "source": [
    "#Q4. What is the ROC curve, and how is it used to evaluate the performance of the logistic regression\n"
   ]
  },
  {
   "cell_type": "markdown",
   "id": "29efd9f8-75a7-4a97-96b5-0429384e39bc",
   "metadata": {},
   "source": [
    "An ROC curve (Receiver operating charteristic curve ) is a graph showing the performance of a classifacation thresholds this curve plots two parameters Truue Positive Rate . Flasse Positiive Rate )"
   ]
  },
  {
   "cell_type": "code",
   "execution_count": null,
   "id": "faa938c9-9958-471c-91f8-aef00f6f2a8e",
   "metadata": {},
   "outputs": [],
   "source": []
  },
  {
   "cell_type": "code",
   "execution_count": 4,
   "id": "6cc68804-f4cd-4da2-920f-4990289b4b0d",
   "metadata": {},
   "outputs": [],
   "source": [
    "#Q5. What are some common techniques for feature selection in logistic regression? How do these \n",
    "#techniques help improve the model's performance?"
   ]
  },
  {
   "cell_type": "markdown",
   "id": "d86f69f7-6ffa-454f-b8d9-1df05994a4d4",
   "metadata": {},
   "source": [
    "There are several types of statistical tests that can be used forfilte feature seletion includfeing chi sqaue , ANOVA ,and mutual information . these tests measure the degree of association beween the feature and hetargets varibles and can help identy the most relevent feature for he model"
   ]
  },
  {
   "cell_type": "code",
   "execution_count": 5,
   "id": "fbe435dd-6713-444f-9c54-9c0dace766a1",
   "metadata": {},
   "outputs": [
    {
     "name": "stdout",
     "output_type": "stream",
     "text": [
      "Object `imbalance` not found.\n"
     ]
    }
   ],
   "source": [
    "#Q6. How can you handle imbalanced datasets in logistic regression? What are some strategies for dealing\n",
    "with class imbalance?"
   ]
  },
  {
   "cell_type": "markdown",
   "id": "915aed41-f39a-4549-8bdc-818ca7150073",
   "metadata": {},
   "source": [
    "### Randomundersampling and Oversampling "
   ]
  },
  {
   "cell_type": "markdown",
   "id": "c5a61f35-1840-47c3-8afd-ade0360bb01d",
   "metadata": {},
   "source": [
    "A  widely adopted and perhaps the most straighted forword methods for dealing with highly imbalnced datasets is called esampling . it codinaed of removeing from the majority class and adding more examples from the minority class "
   ]
  },
  {
   "cell_type": "code",
   "execution_count": null,
   "id": "9215c1fd-a94f-4f2c-9722-4db2b9fe0030",
   "metadata": {},
   "outputs": [],
   "source": []
  },
  {
   "cell_type": "raw",
   "id": "061280e9-75d6-4274-848b-f68a17a1a672",
   "metadata": {},
   "source": [
    "Q7. Can you discuss some common issues and challenges that may arise when implementing logistic\n",
    "regression, and how they can be addressed? For example, what can be done if there is multicollinearity\n",
    "among the independent variables?"
   ]
  },
  {
   "cell_type": "markdown",
   "id": "27e5348c-0842-4a76-a86a-935a1cbd58bc",
   "metadata": {},
   "source": [
    "Implementing logistic regression, like any statistical modeling technique, comes with its set of challenges and potential issues. Here are some common issues"
   ]
  },
  {
   "cell_type": "markdown",
   "id": "8f895a90-10db-4516-98a4-5a8f6031b3ec",
   "metadata": {},
   "source": [
    "Multicollinearity among Independent Variables:"
   ]
  },
  {
   "cell_type": "markdown",
   "id": "64d1eb62-f925-4280-bfc8-7b0443ccce33",
   "metadata": {},
   "source": [
    "overfitting "
   ]
  },
  {
   "cell_type": "markdown",
   "id": "27ef6e7d-3015-4456-8ea7-5b2a056ebc08",
   "metadata": {},
   "source": [
    "Insufficient Data:"
   ]
  },
  {
   "cell_type": "markdown",
   "id": "d520efa8-aa5d-4312-8a57-4800a6270272",
   "metadata": {},
   "source": [
    "Imbalanced Classes:"
   ]
  },
  {
   "cell_type": "markdown",
   "id": "9f58b7e6-727c-4d20-91c9-3dbc822a4c56",
   "metadata": {},
   "source": [
    "Non-linearity in Data"
   ]
  },
  {
   "cell_type": "markdown",
   "id": "a5b99ef0-6235-42f4-8d34-f7a6080cc4d6",
   "metadata": {},
   "source": [
    "Outliers:"
   ]
  },
  {
   "cell_type": "markdown",
   "id": "cd3f4044-bd57-48ad-bd08-5ad51da8a033",
   "metadata": {},
   "source": [
    "Data Preprocessing:"
   ]
  },
  {
   "cell_type": "markdown",
   "id": "f327125d-30d6-4b6b-8478-20ade0eb6f90",
   "metadata": {},
   "source": [
    "Convergence Issues:"
   ]
  },
  {
   "cell_type": "code",
   "execution_count": null,
   "id": "43c948bf-f228-4ad3-94d6-255aa5edee84",
   "metadata": {},
   "outputs": [],
   "source": []
  }
 ],
 "metadata": {
  "kernelspec": {
   "display_name": "Python 3 (ipykernel)",
   "language": "python",
   "name": "python3"
  },
  "language_info": {
   "codemirror_mode": {
    "name": "ipython",
    "version": 3
   },
   "file_extension": ".py",
   "mimetype": "text/x-python",
   "name": "python",
   "nbconvert_exporter": "python",
   "pygments_lexer": "ipython3",
   "version": "3.10.8"
  }
 },
 "nbformat": 4,
 "nbformat_minor": 5
}
